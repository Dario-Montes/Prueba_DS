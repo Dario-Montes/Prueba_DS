{
 "cells": [
  {
   "cell_type": "code",
   "execution_count": null,
   "id": "9ebdf609",
   "metadata": {},
   "outputs": [
    {
     "name": "stdout",
     "output_type": "stream",
     "text": [
      "Job started at 2024-01-12 10:49:00.068677\n"
     ]
    },
    {
     "name": "stderr",
     "output_type": "stream",
     "text": [
      "/tmp/ipykernel_48571/4008689436.py:25: SettingWithCopyWarning: \n",
      "A value is trying to be set on a copy of a slice from a DataFrame.\n",
      "Try using .loc[row_indexer,col_indexer] = value instead\n",
      "\n",
      "See the caveats in the documentation: https://pandas.pydata.org/pandas-docs/stable/user_guide/indexing.html#returning-a-view-versus-a-copy\n",
      "  francia[\"Pais\"], españa[\"Pais\"] = \"FR\", \"ES\"\n",
      "/tmp/ipykernel_48571/4008689436.py:25: SettingWithCopyWarning: \n",
      "A value is trying to be set on a copy of a slice from a DataFrame.\n",
      "Try using .loc[row_indexer,col_indexer] = value instead\n",
      "\n",
      "See the caveats in the documentation: https://pandas.pydata.org/pandas-docs/stable/user_guide/indexing.html#returning-a-view-versus-a-copy\n",
      "  francia[\"Pais\"], españa[\"Pais\"] = \"FR\", \"ES\"\n"
     ]
    }
   ],
   "source": [
    "import schedule\n",
    "import time\n",
    "from datetime import datetime\n",
    "import pandas as pd\n",
    "\n",
    "def run_job():\n",
    "    print(f\"Job started at {datetime.now()}\")\n",
    "\n",
    "    def main():\n",
    "            # identificar los nombres de los archivos en nuestro dorectorio\n",
    "            file_names = [\"ventas_francia.xlsx\", \"ventas_españa.xlsx\", \"datos extra.xlsx\"]\n",
    "            venta_historica = \"venta_historica.csv\" # df inicialmente vacio para adjuntar datos\n",
    "            filtro = \"PVP aprox\"\n",
    "\n",
    "            # crear una lista de nuestros archivos\n",
    "            excels = [pd.read_excel(file, ) for file in file_names]\n",
    "\n",
    "            # guardar individualmente cada archivo\n",
    "            francia, españa, extra = excels[0].iloc[1:,:], excels[1].iloc[1:,:], excels[2]\n",
    "            columns = [\"Articulo\", \"Descripcion\", \"Unidades Vendidas\",\"PVP\"] # definir nombres de columnas\n",
    "\n",
    "            francia.columns = columns # usar nombres correctos de columnas\n",
    "            españa.columns = columns[:3]\n",
    "\n",
    "            # crear columna de control para diferenciar datos despues de unirlos\n",
    "            francia[\"Pais\"], españa[\"Pais\"] = \"FR\", \"ES\"\n",
    "\n",
    "            # unir verticalmente los archivos de francia y españa, y despues unirlos con datos extra\n",
    "            ventas = pd.concat([francia, españa]).merge(extra, left_on= \"Articulo\", right_on=\"ARTICULO\")\n",
    "            \n",
    "            # usar filtro para filtrratr la data segun nos interese\n",
    "            ventas = ventas[~ventas[\"Descripcion\"].str.contains(filtro)]\n",
    "\n",
    "            # Unir los datos por familia y sumar las unidades vendidas\n",
    "            ventas_x_familia = ventas.groupby([\"Articulo\", \"Descripcion\", \"Pais\"])[\"Unidades Vendidas\"].sum().reset_index()\n",
    "\n",
    "            tabla_dinamica = pd.pivot_table(\n",
    "                                        ventas_x_familia, \n",
    "                                        values=\"Unidades Vendidas\", \n",
    "                                        index=\"Descripcion\", \n",
    "                                        columns=\"Pais\", \n",
    "                                        aggfunc=\"sum\"\n",
    "                                       )\n",
    "\n",
    "            # Guardar la tabla con fecha de hoy\n",
    "            fecha_hoy = datetime.now().strftime(\"%Y-%m-%d\")\n",
    "            tabla_dinamica[\"Fecha\"] = fecha_hoy\n",
    "            output_file = f\"Unidades Vendidas{fecha_hoy}.csv\"\n",
    "            tabla_dinamica.to_csv(output_file)\n",
    "\n",
    "            # adjuntar datos al historico\n",
    "            with open(venta_historica, \"a\") as venta_historica:\n",
    "                if venta_historica.tell() == 0:\n",
    "                    venta_historica.write(\",\".join(tabla_dinamica.reset_index().columns) + \"\\n\")  # crear columnas\n",
    "                tabla_dinamica.to_csv(venta_historica, header=False, mode=\"a\")\n",
    "\n",
    "               \n",
    "    main()\n",
    "\n",
    "# definir horario para ejecutar script a las 9:00 PM\n",
    "schedule.every().day.at(\"21:00\").do(run_job)\n",
    "\n",
    "\n",
    "while True:\n",
    "    schedule.run_pending()\n",
    "    time.sleep(1)"
   ]
  },
  {
   "cell_type": "code",
   "execution_count": null,
   "id": "7412ef5d",
   "metadata": {},
   "outputs": [],
   "source": []
  }
 ],
 "metadata": {
  "kernelspec": {
   "display_name": "Python 3 (ipykernel)",
   "language": "python",
   "name": "python3"
  },
  "language_info": {
   "codemirror_mode": {
    "name": "ipython",
    "version": 3
   },
   "file_extension": ".py",
   "mimetype": "text/x-python",
   "name": "python",
   "nbconvert_exporter": "python",
   "pygments_lexer": "ipython3",
   "version": "3.11.5"
  }
 },
 "nbformat": 4,
 "nbformat_minor": 5
}
