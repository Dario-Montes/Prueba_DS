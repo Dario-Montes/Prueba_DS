{
 "cells": [
  {
   "cell_type": "code",
   "execution_count": 2,
   "id": "032b1477",
   "metadata": {},
   "outputs": [],
   "source": [
    "import schedule\n",
    "import time\n",
    "from datetime import datetime\n",
    "import pandas as pd"
   ]
  },
  {
   "cell_type": "code",
   "execution_count": 5,
   "id": "aa8f7ce9",
   "metadata": {},
   "outputs": [],
   "source": [
    "file_names = [\"ventas_francia.xlsx\", \"ventas_españa.xlsx\", \"datos extra.xlsx\"]\n",
    "historical_file = \"historical_data.csv\"\n",
    "dfs = [pd.read_excel(file, ) for file in file_names]"
   ]
  },
  {
   "cell_type": "code",
   "execution_count": 21,
   "id": "25f7cc06",
   "metadata": {},
   "outputs": [],
   "source": [
    "francia, españa, extra = dfs[0].iloc[1:,:], dfs[1].iloc[1:,:], dfs[2]\n",
    "columns = [\"Articulo\", \"Descripcion\", \"Unidades Vendidas\",\"PVP\"]"
   ]
  },
  {
   "cell_type": "code",
   "execution_count": 22,
   "id": "de68907c",
   "metadata": {},
   "outputs": [],
   "source": [
    "francia.columns = columns\n",
    "españa.columns = columns[:3]"
   ]
  },
  {
   "cell_type": "code",
   "execution_count": 24,
   "id": "0ffa314c",
   "metadata": {},
   "outputs": [
    {
     "name": "stderr",
     "output_type": "stream",
     "text": [
      "/tmp/ipykernel_44450/148413485.py:1: SettingWithCopyWarning: \n",
      "A value is trying to be set on a copy of a slice from a DataFrame.\n",
      "Try using .loc[row_indexer,col_indexer] = value instead\n",
      "\n",
      "See the caveats in the documentation: https://pandas.pydata.org/pandas-docs/stable/user_guide/indexing.html#returning-a-view-versus-a-copy\n",
      "  francia[\"pais\"], españa[\"pais\"] = \"Fr\", \"Es\"\n",
      "/tmp/ipykernel_44450/148413485.py:1: SettingWithCopyWarning: \n",
      "A value is trying to be set on a copy of a slice from a DataFrame.\n",
      "Try using .loc[row_indexer,col_indexer] = value instead\n",
      "\n",
      "See the caveats in the documentation: https://pandas.pydata.org/pandas-docs/stable/user_guide/indexing.html#returning-a-view-versus-a-copy\n",
      "  francia[\"pais\"], españa[\"pais\"] = \"Fr\", \"Es\"\n"
     ]
    }
   ],
   "source": [
    "francia[\"pais\"], españa[\"Pais\"] = \"Fr\", \"Es\""
   ]
  },
  {
   "cell_type": "code",
   "execution_count": 41,
   "id": "df1bda28",
   "metadata": {},
   "outputs": [],
   "source": [
    "ventas = pd.concat([francia, españa]).merge(extra, left_on= \"Articulo\", right_on=\"ARTICULO\")"
   ]
  },
  {
   "cell_type": "code",
   "execution_count": 59,
   "id": "4087347e",
   "metadata": {},
   "outputs": [],
   "source": [
    "ventas_x_familia = ventas.groupby([\"Articulo\", \"Descripcion\", \"pais\"])[\"Unidades Vendidas\"].sum().reset_index()\n"
   ]
  },
  {
   "cell_type": "code",
   "execution_count": 60,
   "id": "3646ac3f",
   "metadata": {},
   "outputs": [
    {
     "data": {
      "text/html": [
       "<div>\n",
       "<style scoped>\n",
       "    .dataframe tbody tr th:only-of-type {\n",
       "        vertical-align: middle;\n",
       "    }\n",
       "\n",
       "    .dataframe tbody tr th {\n",
       "        vertical-align: top;\n",
       "    }\n",
       "\n",
       "    .dataframe thead th {\n",
       "        text-align: right;\n",
       "    }\n",
       "</style>\n",
       "<table border=\"1\" class=\"dataframe\">\n",
       "  <thead>\n",
       "    <tr style=\"text-align: right;\">\n",
       "      <th></th>\n",
       "      <th>Articulo</th>\n",
       "      <th>Descripcion</th>\n",
       "      <th>pais</th>\n",
       "      <th>Unidades Vendidas</th>\n",
       "    </tr>\n",
       "  </thead>\n",
       "  <tbody>\n",
       "    <tr>\n",
       "      <th>0</th>\n",
       "      <td>1</td>\n",
       "      <td>Bonsai 10 años</td>\n",
       "      <td>Es</td>\n",
       "      <td>330</td>\n",
       "    </tr>\n",
       "    <tr>\n",
       "      <th>1</th>\n",
       "      <td>1</td>\n",
       "      <td>Bonsai 10 años</td>\n",
       "      <td>Fr</td>\n",
       "      <td>7</td>\n",
       "    </tr>\n",
       "    <tr>\n",
       "      <th>2</th>\n",
       "      <td>2</td>\n",
       "      <td>Bonsai 5 años</td>\n",
       "      <td>Es</td>\n",
       "      <td>117</td>\n",
       "    </tr>\n",
       "    <tr>\n",
       "      <th>3</th>\n",
       "      <td>2</td>\n",
       "      <td>Bonsai 5 años</td>\n",
       "      <td>Fr</td>\n",
       "      <td>157</td>\n",
       "    </tr>\n",
       "    <tr>\n",
       "      <th>4</th>\n",
       "      <td>3</td>\n",
       "      <td>Bonsai 6 años</td>\n",
       "      <td>Es</td>\n",
       "      <td>398</td>\n",
       "    </tr>\n",
       "    <tr>\n",
       "      <th>...</th>\n",
       "      <td>...</td>\n",
       "      <td>...</td>\n",
       "      <td>...</td>\n",
       "      <td>...</td>\n",
       "    </tr>\n",
       "    <tr>\n",
       "      <th>195</th>\n",
       "      <td>98</td>\n",
       "      <td>Centro 3 Rosas</td>\n",
       "      <td>Fr</td>\n",
       "      <td>22</td>\n",
       "    </tr>\n",
       "    <tr>\n",
       "      <th>196</th>\n",
       "      <td>99</td>\n",
       "      <td>Rosa Cono Normal</td>\n",
       "      <td>Es</td>\n",
       "      <td>139</td>\n",
       "    </tr>\n",
       "    <tr>\n",
       "      <th>197</th>\n",
       "      <td>99</td>\n",
       "      <td>Rosa Cono Normal</td>\n",
       "      <td>Fr</td>\n",
       "      <td>352</td>\n",
       "    </tr>\n",
       "    <tr>\n",
       "      <th>198</th>\n",
       "      <td>100</td>\n",
       "      <td>Rosa Oferta</td>\n",
       "      <td>Es</td>\n",
       "      <td>408</td>\n",
       "    </tr>\n",
       "    <tr>\n",
       "      <th>199</th>\n",
       "      <td>100</td>\n",
       "      <td>Rosa Oferta</td>\n",
       "      <td>Fr</td>\n",
       "      <td>474</td>\n",
       "    </tr>\n",
       "  </tbody>\n",
       "</table>\n",
       "<p>200 rows × 4 columns</p>\n",
       "</div>"
      ],
      "text/plain": [
       "     Articulo       Descripcion pais Unidades Vendidas\n",
       "0           1    Bonsai 10 años   Es               330\n",
       "1           1    Bonsai 10 años   Fr                 7\n",
       "2           2     Bonsai 5 años   Es               117\n",
       "3           2     Bonsai 5 años   Fr               157\n",
       "4           3     Bonsai 6 años   Es               398\n",
       "..        ...               ...  ...               ...\n",
       "195        98    Centro 3 Rosas   Fr                22\n",
       "196        99  Rosa Cono Normal   Es               139\n",
       "197        99  Rosa Cono Normal   Fr               352\n",
       "198       100       Rosa Oferta   Es               408\n",
       "199       100       Rosa Oferta   Fr               474\n",
       "\n",
       "[200 rows x 4 columns]"
      ]
     },
     "execution_count": 60,
     "metadata": {},
     "output_type": "execute_result"
    }
   ],
   "source": [
    "ventas_x_familia"
   ]
  },
  {
   "cell_type": "code",
   "execution_count": 66,
   "id": "5e1deed1",
   "metadata": {},
   "outputs": [
    {
     "data": {
      "text/html": [
       "<div>\n",
       "<style scoped>\n",
       "    .dataframe tbody tr th:only-of-type {\n",
       "        vertical-align: middle;\n",
       "    }\n",
       "\n",
       "    .dataframe tbody tr th {\n",
       "        vertical-align: top;\n",
       "    }\n",
       "\n",
       "    .dataframe thead th {\n",
       "        text-align: right;\n",
       "    }\n",
       "</style>\n",
       "<table border=\"1\" class=\"dataframe\">\n",
       "  <thead>\n",
       "    <tr style=\"text-align: right;\">\n",
       "      <th>pais</th>\n",
       "      <th>Es</th>\n",
       "      <th>Fr</th>\n",
       "    </tr>\n",
       "    <tr>\n",
       "      <th>Descripcion</th>\n",
       "      <th></th>\n",
       "      <th></th>\n",
       "    </tr>\n",
       "  </thead>\n",
       "  <tbody>\n",
       "    <tr>\n",
       "      <th>Abono Granulado 1000gr</th>\n",
       "      <td>358</td>\n",
       "      <td>327</td>\n",
       "    </tr>\n",
       "    <tr>\n",
       "      <th>Abono Granulado 500gr</th>\n",
       "      <td>116</td>\n",
       "      <td>358</td>\n",
       "    </tr>\n",
       "    <tr>\n",
       "      <th>Abono Liquido 1000cc</th>\n",
       "      <td>313</td>\n",
       "      <td>32</td>\n",
       "    </tr>\n",
       "    <tr>\n",
       "      <th>Abono Liquido 500cc</th>\n",
       "      <td>265</td>\n",
       "      <td>160</td>\n",
       "    </tr>\n",
       "    <tr>\n",
       "      <th>Abono Orquideas Liquido</th>\n",
       "      <td>386</td>\n",
       "      <td>273</td>\n",
       "    </tr>\n",
       "    <tr>\n",
       "      <th>...</th>\n",
       "      <td>...</td>\n",
       "      <td>...</td>\n",
       "    </tr>\n",
       "    <tr>\n",
       "      <th>Tronco Brasil 2 Troncos</th>\n",
       "      <td>204</td>\n",
       "      <td>107</td>\n",
       "    </tr>\n",
       "    <tr>\n",
       "      <th>Tronco Brasil 3 Troncos</th>\n",
       "      <td>265</td>\n",
       "      <td>235</td>\n",
       "    </tr>\n",
       "    <tr>\n",
       "      <th>Violetero 20cm</th>\n",
       "      <td>263</td>\n",
       "      <td>258</td>\n",
       "    </tr>\n",
       "    <tr>\n",
       "      <th>Yuca 1 Tronco</th>\n",
       "      <td>107</td>\n",
       "      <td>344</td>\n",
       "    </tr>\n",
       "    <tr>\n",
       "      <th>Yuca 2 Tronco</th>\n",
       "      <td>302</td>\n",
       "      <td>348</td>\n",
       "    </tr>\n",
       "  </tbody>\n",
       "</table>\n",
       "<p>100 rows × 2 columns</p>\n",
       "</div>"
      ],
      "text/plain": [
       "pais                      Es   Fr\n",
       "Descripcion                      \n",
       "Abono Granulado 1000gr   358  327\n",
       "Abono Granulado 500gr    116  358\n",
       "Abono Liquido 1000cc     313   32\n",
       "Abono Liquido 500cc      265  160\n",
       "Abono Orquideas Liquido  386  273\n",
       "...                      ...  ...\n",
       "Tronco Brasil 2 Troncos  204  107\n",
       "Tronco Brasil 3 Troncos  265  235\n",
       "Violetero 20cm           263  258\n",
       "Yuca 1 Tronco            107  344\n",
       "Yuca 2 Tronco            302  348\n",
       "\n",
       "[100 rows x 2 columns]"
      ]
     },
     "execution_count": 66,
     "metadata": {},
     "output_type": "execute_result"
    }
   ],
   "source": [
    "result = pd.pivot_table(ventas_x_familia, values=\"Unidades Vendidas\", index=\"Descripcion\", columns=\"pais\", aggfunc=\"sum\")"
   ]
  },
  {
   "cell_type": "code",
   "execution_count": 68,
   "id": "552a85a9",
   "metadata": {},
   "outputs": [
    {
     "data": {
      "text/plain": [
       "'2024-01-11'"
      ]
     },
     "execution_count": 68,
     "metadata": {},
     "output_type": "execute_result"
    }
   ],
   "source": [
    "# Save the manipulated data with today's date\n",
    "today_date = datetime.now().strftime(\"%Y-%m-%d\")\n",
    "today_date"
   ]
  },
  {
   "cell_type": "code",
   "execution_count": null,
   "id": "61e986bb",
   "metadata": {},
   "outputs": [],
   "source": [
    "output_file = f\"manipulated_data_{today_date}.csv\"\n",
    "pivot_table.to_csv(output_file)"
   ]
  },
  {
   "cell_type": "code",
   "execution_count": null,
   "id": "928efb34",
   "metadata": {},
   "outputs": [],
   "source": [
    "def main():\n",
    "        # identificar los nombres de los archivos en nuestro dorectorio\n",
    "        file_names = [\"ventas_francia.xlsx\", \"ventas_españa.xlsx\", \"datos extra.xlsx\"]\n",
    "        historical_file = \"historical_data.csv\" # df inicialmente vacio para adjuntar datos\n",
    "        \n",
    "        # crear una lista de nuestros archivos\n",
    "        excels = [pd.read_excel(file, ) for file in file_names]\n",
    "\n",
    "        # guardar individualmente cada archivo\n",
    "        francia, españa, extra = excels[0].iloc[1:,:], excels[1].iloc[1:,:], excels[2]\n",
    "        columns = [\"Articulo\", \"Descripcion\", \"Unidades Vendidas\",\"PVP\"] # definir nombres de columnas\n",
    "        \n",
    "        francia.columns = columns # usar nombres correctos de columnas\n",
    "        españa.columns = columns[:3]\n",
    "        \n",
    "        # crear columna de control para diferenciar datos despues de unirlos\n",
    "        francia[\"pais\"], españa[\"Pais\"] = \"Fr\", \"Es\"\n",
    "        \n",
    "        # unir verticalmente los archivos de francia y españa, y despues unirlos con datos extra\n",
    "        ventas = pd.concat([francia, españa]).merge(extra, left_on= \"Articulo\", right_on=\"ARTICULO\")\n",
    "        \n",
    "        # Unir los datos por familia y sumar las unidades vendidas\n",
    "        ventas_x_familia = ventas.groupby([\"Articulo\", \"Descripcion\", \"pais\"])[\"Unidades Vendidas\"].sum().reset_index()\n",
    "        \n",
    "        tabla_dinamica = pd.pivot_table(\n",
    "                                ventas_x_familia, \n",
    "                                values=\"Unidades Vendidas\", \n",
    "                                index=\"Descripcion\", \n",
    "                                columns=\"pais\", \n",
    "                                aggfunc=\"sum\"\n",
    "                               )\n",
    "\n",
    "\n",
    "\n",
    "        # Guardar la tabla con fecha de hoy\n",
    "        fecha_hoy = datetime.now().strftime(\"%Y-%m-%d\")\n",
    "        output_file = f\"Unidades Vendidas{today_date}.csv\"\n",
    "        tabla_dinamica.to_csv(output_file)\n",
    "        \n",
    "# Append the manipulated data to the historical file\n",
    "with open(historical_file, 'a') as historical_data:\n",
    "    pivot_table.to_csv(historical_data, header=False, mode='a')\n",
    "\n"
   ]
  },
  {
   "cell_type": "code",
   "execution_count": null,
   "id": "0eb99b97",
   "metadata": {},
   "outputs": [],
   "source": [
    "def run_job():\n",
    "    print(f\"Job started at {datetime.now()}\")\n",
    "    \n",
    "# Schedule the job every day at 9:00 PM\n",
    "schedule.every().day.at(\"21:00\").do(run_job)\n",
    "\n",
    "while True:\n",
    "    schedule.run_pending()\n",
    "    time.sleep(1)"
   ]
  }
 ],
 "metadata": {
  "kernelspec": {
   "display_name": "Python 3 (ipykernel)",
   "language": "python",
   "name": "python3"
  },
  "language_info": {
   "codemirror_mode": {
    "name": "ipython",
    "version": 3
   },
   "file_extension": ".py",
   "mimetype": "text/x-python",
   "name": "python",
   "nbconvert_exporter": "python",
   "pygments_lexer": "ipython3",
   "version": "3.11.5"
  }
 },
 "nbformat": 4,
 "nbformat_minor": 5
}
